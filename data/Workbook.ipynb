{
 "cells": [
  {
   "cell_type": "code",
   "execution_count": 1,
   "metadata": {
    "collapsed": true
   },
   "outputs": [],
   "source": [
    "import pandas as pd\n",
    "import numpy as np\n",
    "from utils import *"
   ]
  },
  {
   "cell_type": "code",
   "execution_count": 2,
   "metadata": {
    "collapsed": true
   },
   "outputs": [],
   "source": [
    "create_state_csv('Arunachal Pradesh')"
   ]
  },
  {
   "cell_type": "code",
   "execution_count": 3,
   "metadata": {
    "collapsed": true
   },
   "outputs": [],
   "source": [
    "### Assam, North Cahar Hills is missing data \n",
    "baksa = append_sub_district('Assam', 'Baksa')\n",
    "barpeta = append_sub_district('Assam', 'Barpeta')\n",
    "bongaigaon = append_sub_district('Assam', 'Bongaigaon')\n",
    "cachar = append_sub_district('Assam', 'Cachar')\n",
    "chirang = append_sub_district('Assam', 'Chirang')\n",
    "darrang = append_sub_district('Assam', 'Darrang')\n",
    "dhubri = append_sub_district('Assam', 'Dhubri')\n",
    "dibrugarh = append_sub_district('Assam', 'Dibrugarh')\n",
    "goalpara = append_sub_district('Assam', 'Goalpara')\n",
    "hailakandi = append_sub_district('Assam', 'Hailakandi')\n",
    "jorhat = append_sub_district('Assam', 'Jorhat')\n",
    "kamrup_R = append_sub_district('Assam', 'Kamrup R')\n",
    "karbi_anglong = append_sub_district('Assam', 'Karbi Anglong')\n",
    "karimganj = append_sub_district('Assam', 'Karimganj')\n",
    "kokrajhar = append_sub_district('Assam', 'Kokrajhar')\n",
    "lakhimpur = append_sub_district('Assam', 'Lakhimpur')\n",
    "marigaon = append_sub_district('Assam', 'Marigaon')\n",
    "nalbari = append_sub_district('Assam', 'Nalbari')\n",
    "sibsagar = append_sub_district('Assam', 'Sibsagar')\n",
    "udalguri = append_sub_district('Assam', 'Udalguri')\n",
    "\n",
    "district_names = [baksa, barpeta, bongaigaon, cachar, chirang, darrang, dhubri, dibrugarh,goalpara,hailakandi,jorhat,kamrup_R ,karbi_anglong ,karimganj ,kokrajhar,lakhimpur,marigaon ,nalbari ,sibsagar ,udalguri]\n",
    "Assam = pd.concat(district_names)\n",
    "Assam = fix_column_order(Assam)\n",
    "Assam.to_csv('/Users/stanleyou/india_health_data/state_csv/assam.csv')"
   ]
  },
  {
   "cell_type": "code",
   "execution_count": 4,
   "metadata": {
    "collapsed": true
   },
   "outputs": [],
   "source": [
    "create_state_csv('Chandigarh')"
   ]
  },
  {
   "cell_type": "code",
   "execution_count": 5,
   "metadata": {
    "collapsed": true
   },
   "outputs": [],
   "source": [
    "create_state_csv('Chhattisgarh')"
   ]
  },
  {
   "cell_type": "code",
   "execution_count": 6,
   "metadata": {
    "collapsed": true
   },
   "outputs": [],
   "source": [
    "create_state_csv('Dadra & Nagar Haveli')"
   ]
  },
  {
   "cell_type": "code",
   "execution_count": 7,
   "metadata": {
    "collapsed": true
   },
   "outputs": [],
   "source": [
    "create_state_csv('Daman & Diu')"
   ]
  },
  {
   "cell_type": "code",
   "execution_count": 8,
   "metadata": {
    "collapsed": true
   },
   "outputs": [],
   "source": [
    "create_state_csv('Delhi')"
   ]
  },
  {
   "cell_type": "code",
   "execution_count": 9,
   "metadata": {
    "collapsed": true
   },
   "outputs": [],
   "source": [
    "create_state_csv('Goa')"
   ]
  },
  {
   "cell_type": "code",
   "execution_count": 10,
   "metadata": {
    "collapsed": true
   },
   "outputs": [],
   "source": [
    "create_state_csv('Jammu & Kashmir')"
   ]
  },
  {
   "cell_type": "code",
   "execution_count": 11,
   "metadata": {
    "collapsed": true
   },
   "outputs": [],
   "source": [
    "### Jharkhand\n",
    "\n",
    "a = append_sub_district('Jharkhand', 'Bokaro')\n",
    "b = append_sub_district('Jharkhand', 'Chatra')\n",
    "c = append_sub_district('Jharkhand', 'Deoghar')\n",
    "d = append_sub_district('Jharkhand', 'Dhanbad')\n",
    "e = append_sub_district('Jharkhand', 'Dumka')\n",
    "f = append_sub_district('Jharkhand', 'Garhwa')\n",
    "g = append_sub_district('Jharkhand', 'Giridih')\n",
    "h = append_sub_district('Jharkhand', 'Godda')\n",
    "i = append_sub_district('Jharkhand', 'Gumla')\n",
    "j = append_sub_district('Jharkhand', 'Hazaribagh')\n",
    "k = append_sub_district('Jharkhand', 'Jamtara')\n",
    "l = append_sub_district('Jharkhand', 'Khunti')\n",
    "m = append_sub_district('Jharkhand', 'Kodarma')\n",
    "n = append_sub_district('Jharkhand', 'Latehar')\n",
    "o = append_sub_district('Jharkhand', 'Lohardaga')\n",
    "q = append_sub_district('Jharkhand', 'Palamu')\n",
    "r = append_sub_district('Jharkhand', 'Pashchimi Singhbhum')\n",
    "s = append_sub_district('Jharkhand', 'Purbi Singhbhum')\n",
    "t = append_sub_district('Jharkhand', 'Ramgarh')\n",
    "u = append_sub_district('Jharkhand', 'Ranchi')\n",
    "v = append_sub_district('Jharkhand', 'Sahibganj')\n",
    "w = append_sub_district('Jharkhand', 'Saraikela')\n",
    "x = append_sub_district('Jharkhand', 'Simdega')\n",
    "\n",
    "district_names = [a,b,c,d,e,f,g,h,i,j,k,l,m,n,o,q,r,s,t,u,v,w,x]\n",
    "Jharkhand = pd.concat(district_names)\n",
    "Jharkhand = fix_column_order(Jharkhand)\n",
    "Jharkhand.to_csv('/Users/stanleyou/india_health_data/state_csv/jharkhand.csv')"
   ]
  },
  {
   "cell_type": "code",
   "execution_count": 12,
   "metadata": {
    "collapsed": true
   },
   "outputs": [],
   "source": [
    "create_state_csv('Manipur')\n",
    "create_state_csv('Meghalaya')\n",
    "create_state_csv('Mizoram')\n",
    "create_state_csv('Nagaland')\n",
    "create_state_csv('Sikkim')\n",
    "create_state_csv('Tripura')\n",
    "create_state_csv('Uttarakhand')"
   ]
  },
  {
   "cell_type": "code",
   "execution_count": 13,
   "metadata": {
    "collapsed": true
   },
   "outputs": [],
   "source": [
    "def append_sub_district_2013(district, sub_district):\n",
    "    year_2013 = read_file(2013, district, sub_district)\n",
    "    cleaned_2013 = clean_table(year_2013, district, sub_district, 2013)\n",
    "    year_2014 = read_file(2014, district, sub_district)\n",
    "    cleaned_2014 = clean_table(year_2014, district, sub_district, 2014)\n",
    "    year_2015 = read_file(2015, district, sub_district)\n",
    "    cleaned_2015 = clean_table(year_2015, district, sub_district, 2015)\n",
    "    year_2016 = read_file(2016, district, sub_district)\n",
    "    cleaned_2016 = clean_table(year_2016, district, sub_district, 2016)\n",
    "    year_2017 = read_file(2017, district, sub_district)\n",
    "    cleaned_2017 = clean_table(year_2017, district, sub_district, 2017)\n",
    "\n",
    "    total_years = [cleaned_2013, cleaned_2014, cleaned_2015, cleaned_2016, cleaned_2017]\n",
    "    df = pd.concat(total_years)\n",
    "    return df\n",
    "\n",
    "def create_state_csv_2013(state_name):\n",
    "    district_names = []\n",
    "    path = '/Users/stanleyou/india_health_data/data/2013/MonthUpToMarch/' + state_name\n",
    "    files = os.listdir(path)\n",
    "    for i in files:\n",
    "        district_names.append(append_sub_district_2013(state_name, i))\n",
    "    state = pd.concat(district_names)\n",
    "    state = fix_column_order(state)\n",
    "    state.to_csv('/Users/stanleyou/india_health_data/state_csv/' + state_name + '.csv')\n",
    "    "
   ]
  },
  {
   "cell_type": "code",
   "execution_count": 14,
   "metadata": {
    "collapsed": true
   },
   "outputs": [],
   "source": [
    "create_state_csv_2013('Lakshadweep')\n",
    "create_state_csv_2013('Karnataka')\n",
    "create_state_csv_2013('Odisha')\n",
    "create_state_csv_2013('Punjab')"
   ]
  },
  {
   "cell_type": "code",
   "execution_count": 15,
   "metadata": {
    "collapsed": true
   },
   "outputs": [],
   "source": [
    "def append_west_bengal_march(district, sub_district):\n",
    "    year_2013 = read_file(2013, district, sub_district)\n",
    "    cleaned_2013 = clean_table(year_2013, district, sub_district, 2013)\n",
    "    year_2014 = read_file(2014, district, sub_district)\n",
    "    cleaned_2014 = clean_table(year_2014, district, sub_district, 2014)\n",
    "\n",
    "    total_years = [cleaned_2013, cleaned_2014]\n",
    "    df = pd.concat(total_years)\n",
    "    return df\n",
    "\n",
    "def create_west_bengal_march(state_name):\n",
    "    district_names = []\n",
    "    path = '/Users/stanleyou/india_health_data/data/2013/MonthUpToMarch/' + state_name\n",
    "    files = os.listdir(path)\n",
    "    for i in files:\n",
    "        district_names.append(append_west_bengal_march(state_name, i))\n",
    "    state = pd.concat(district_names)\n",
    "    state = fix_column_order(state)\n",
    "    state.to_csv('/Users/stanleyou/india_health_data/state_csv/' + state_name + '.csv')\n",
    "    "
   ]
  },
  {
   "cell_type": "code",
   "execution_count": 16,
   "metadata": {
    "collapsed": true
   },
   "outputs": [],
   "source": [
    "create_west_bengal_march('West Bengal')"
   ]
  },
  {
   "cell_type": "code",
   "execution_count": 17,
   "metadata": {
    "collapsed": true
   },
   "outputs": [],
   "source": [
    "def append_sub_district_2014(district, sub_district):\n",
    "    year_2014 = read_file(2014, district, sub_district)\n",
    "    cleaned_2014 = clean_table(year_2014, district, sub_district, 2014)\n",
    "    year_2015 = read_file(2015, district, sub_district)\n",
    "    cleaned_2015 = clean_table(year_2015, district, sub_district, 2015)\n",
    "    year_2016 = read_file(2016, district, sub_district)\n",
    "    cleaned_2016 = clean_table(year_2016, district, sub_district, 2016)\n",
    "    year_2017 = read_file(2017, district, sub_district)\n",
    "    cleaned_2017 = clean_table(year_2017, district, sub_district, 2017)\n",
    "\n",
    "    total_years = [cleaned_2014, cleaned_2015, cleaned_2016, cleaned_2017]\n",
    "    df = pd.concat(total_years)\n",
    "    return df\n",
    "\n",
    "def create_state_csv_2014(state_name):\n",
    "    district_names = []\n",
    "    path = '/Users/stanleyou/india_health_data/data/2014/MonthUpToMarch/' + state_name\n",
    "    files = os.listdir(path)\n",
    "    for i in files:\n",
    "        district_names.append(append_sub_district_2014(state_name, i))\n",
    "    state = pd.concat(district_names)\n",
    "    state = fix_column_order(state)\n",
    "    state.to_csv('/Users/stanleyou/india_health_data/state_csv/' + state_name + '.csv')"
   ]
  },
  {
   "cell_type": "code",
   "execution_count": 18,
   "metadata": {
    "collapsed": true
   },
   "outputs": [],
   "source": [
    "create_state_csv_2014('Uttar Pradesh')\n",
    "create_state_csv_2014('Rajasthan')"
   ]
  },
  {
   "cell_type": "code",
   "execution_count": 19,
   "metadata": {
    "collapsed": true
   },
   "outputs": [],
   "source": [
    "def append_telangana(district, sub_district):\n",
    "    year_2014 = read_file(2014, district, sub_district)\n",
    "    cleaned_2014 = clean_table(year_2014, district, sub_district, 2014)\n",
    "\n",
    "    total_years = [cleaned_2014]\n",
    "    df = pd.concat(total_years)\n",
    "    return df\n",
    "\n",
    "def create_telangana(state_name):\n",
    "    district_names = []\n",
    "    path = '/Users/stanleyou/india_health_data/data/2014/MonthUpToMarch/' + state_name\n",
    "    files = os.listdir(path)\n",
    "    for i in files:\n",
    "        district_names.append(append_telangana(state_name, i))\n",
    "    state = pd.concat(district_names)\n",
    "    state = fix_column_order(state)\n",
    "    state.to_csv('/Users/stanleyou/india_health_data/state_csv/' + state_name + '.csv')"
   ]
  },
  {
   "cell_type": "code",
   "execution_count": 20,
   "metadata": {
    "collapsed": true
   },
   "outputs": [],
   "source": [
    "create_telangana('Telangana')"
   ]
  },
  {
   "cell_type": "code",
   "execution_count": 21,
   "metadata": {
    "collapsed": true
   },
   "outputs": [],
   "source": [
    "create_state_csv_2014('Madhya Pradesh')\n",
    "create_state_csv_2014('Himachal Pradesh')\n",
    "create_state_csv_2014('Gujarat')\n",
    "create_state_csv_2014('Andhra Pradesh')"
   ]
  },
  {
   "cell_type": "code",
   "execution_count": 22,
   "metadata": {
    "collapsed": true
   },
   "outputs": [],
   "source": [
    "def append_haryana(district, sub_district):\n",
    "    year_2014 = read_file(2014, district, sub_district)\n",
    "    cleaned_2014 = clean_table(year_2014, district, sub_district, 2014)\n",
    "    year_2015 = read_file(2015, district, sub_district)\n",
    "    cleaned_2015 = clean_table(year_2015, district, sub_district, 2015)\n",
    "    year_2016 = read_file(2016, district, sub_district)\n",
    "    cleaned_2016 = clean_table(year_2016, district, sub_district, 2016)\n",
    "    total_years = [cleaned_2014, cleaned_2015, cleaned_2016]\n",
    "    df = pd.concat(total_years)\n",
    "    return df\n",
    "\n",
    "def create_haryana(state_name):\n",
    "    district_names = []\n",
    "    path = '/Users/stanleyou/india_health_data/data/2014/MonthUpToMarch/' + state_name\n",
    "    files = os.listdir(path)\n",
    "    for i in files:\n",
    "        district_names.append(append_haryana(state_name, i))\n",
    "    state = pd.concat(district_names)\n",
    "    state = fix_column_order(state)\n",
    "    state.to_csv('/Users/stanleyou/india_health_data/state_csv/' + state_name + '.csv')"
   ]
  },
  {
   "cell_type": "code",
   "execution_count": 23,
   "metadata": {
    "collapsed": true
   },
   "outputs": [],
   "source": [
    "create_haryana('Haryana')"
   ]
  },
  {
   "cell_type": "code",
   "execution_count": null,
   "metadata": {
    "collapsed": true
   },
   "outputs": [],
   "source": []
  }
 ],
 "metadata": {
  "kernelspec": {
   "display_name": "Python 3",
   "language": "python",
   "name": "python3"
  },
  "language_info": {
   "codemirror_mode": {
    "name": "ipython",
    "version": 3
   },
   "file_extension": ".py",
   "mimetype": "text/x-python",
   "name": "python",
   "nbconvert_exporter": "python",
   "pygments_lexer": "ipython3",
   "version": "3.6.3"
  }
 },
 "nbformat": 4,
 "nbformat_minor": 2
}
